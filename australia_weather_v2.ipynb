{
 "cells": [
  {
   "cell_type": "code",
   "execution_count": 59,
   "metadata": {},
   "outputs": [],
   "source": [
    "import pandas as pd\n",
    "import seaborn as sns\n",
    "import matplotlib.pyplot as plt"
   ]
  },
  {
   "cell_type": "markdown",
   "metadata": {},
   "source": [
    "# Objective: trying to predict if tomorrow would be raining in Australia"
   ]
  },
  {
   "cell_type": "code",
   "execution_count": 60,
   "metadata": {},
   "outputs": [],
   "source": [
    "weather = pd.read_csv('weatherAUS.csv')"
   ]
  },
  {
   "cell_type": "markdown",
   "metadata": {},
   "source": [
    "# EDA checking the dataset"
   ]
  },
  {
   "cell_type": "code",
   "execution_count": 61,
   "metadata": {},
   "outputs": [
    {
     "data": {
      "text/plain": [
       "(142193, 24)"
      ]
     },
     "execution_count": 61,
     "metadata": {},
     "output_type": "execute_result"
    }
   ],
   "source": [
    "weather.shape"
   ]
  },
  {
   "cell_type": "code",
   "execution_count": 62,
   "metadata": {},
   "outputs": [
    {
     "data": {
      "text/plain": [
       "Index(['Date', 'Location', 'MinTemp', 'MaxTemp', 'Rainfall', 'Evaporation',\n",
       "       'Sunshine', 'WindGustDir', 'WindGustSpeed', 'WindDir9am', 'WindDir3pm',\n",
       "       'WindSpeed9am', 'WindSpeed3pm', 'Humidity9am', 'Humidity3pm',\n",
       "       'Pressure9am', 'Pressure3pm', 'Cloud9am', 'Cloud3pm', 'Temp9am',\n",
       "       'Temp3pm', 'RainToday', 'RISK_MM', 'RainTomorrow'],\n",
       "      dtype='object')"
      ]
     },
     "execution_count": 62,
     "metadata": {},
     "output_type": "execute_result"
    }
   ],
   "source": [
    "weather.columns"
   ]
  },
  {
   "cell_type": "code",
   "execution_count": 63,
   "metadata": {},
   "outputs": [
    {
     "data": {
      "text/html": [
       "<div>\n",
       "<style scoped>\n",
       "    .dataframe tbody tr th:only-of-type {\n",
       "        vertical-align: middle;\n",
       "    }\n",
       "\n",
       "    .dataframe tbody tr th {\n",
       "        vertical-align: top;\n",
       "    }\n",
       "\n",
       "    .dataframe thead th {\n",
       "        text-align: right;\n",
       "    }\n",
       "</style>\n",
       "<table border=\"1\" class=\"dataframe\">\n",
       "  <thead>\n",
       "    <tr style=\"text-align: right;\">\n",
       "      <th></th>\n",
       "      <th>Date</th>\n",
       "      <th>Location</th>\n",
       "      <th>MinTemp</th>\n",
       "      <th>MaxTemp</th>\n",
       "      <th>Rainfall</th>\n",
       "      <th>Evaporation</th>\n",
       "      <th>Sunshine</th>\n",
       "      <th>WindGustDir</th>\n",
       "      <th>WindGustSpeed</th>\n",
       "      <th>WindDir9am</th>\n",
       "      <th>...</th>\n",
       "      <th>Humidity3pm</th>\n",
       "      <th>Pressure9am</th>\n",
       "      <th>Pressure3pm</th>\n",
       "      <th>Cloud9am</th>\n",
       "      <th>Cloud3pm</th>\n",
       "      <th>Temp9am</th>\n",
       "      <th>Temp3pm</th>\n",
       "      <th>RainToday</th>\n",
       "      <th>RISK_MM</th>\n",
       "      <th>RainTomorrow</th>\n",
       "    </tr>\n",
       "  </thead>\n",
       "  <tbody>\n",
       "    <tr>\n",
       "      <td>0</td>\n",
       "      <td>2008-12-01</td>\n",
       "      <td>Albury</td>\n",
       "      <td>13.4</td>\n",
       "      <td>22.9</td>\n",
       "      <td>0.6</td>\n",
       "      <td>NaN</td>\n",
       "      <td>NaN</td>\n",
       "      <td>W</td>\n",
       "      <td>44.0</td>\n",
       "      <td>W</td>\n",
       "      <td>...</td>\n",
       "      <td>22.0</td>\n",
       "      <td>1007.7</td>\n",
       "      <td>1007.1</td>\n",
       "      <td>8.0</td>\n",
       "      <td>NaN</td>\n",
       "      <td>16.9</td>\n",
       "      <td>21.8</td>\n",
       "      <td>No</td>\n",
       "      <td>0.0</td>\n",
       "      <td>No</td>\n",
       "    </tr>\n",
       "    <tr>\n",
       "      <td>1</td>\n",
       "      <td>2008-12-02</td>\n",
       "      <td>Albury</td>\n",
       "      <td>7.4</td>\n",
       "      <td>25.1</td>\n",
       "      <td>0.0</td>\n",
       "      <td>NaN</td>\n",
       "      <td>NaN</td>\n",
       "      <td>WNW</td>\n",
       "      <td>44.0</td>\n",
       "      <td>NNW</td>\n",
       "      <td>...</td>\n",
       "      <td>25.0</td>\n",
       "      <td>1010.6</td>\n",
       "      <td>1007.8</td>\n",
       "      <td>NaN</td>\n",
       "      <td>NaN</td>\n",
       "      <td>17.2</td>\n",
       "      <td>24.3</td>\n",
       "      <td>No</td>\n",
       "      <td>0.0</td>\n",
       "      <td>No</td>\n",
       "    </tr>\n",
       "    <tr>\n",
       "      <td>2</td>\n",
       "      <td>2008-12-03</td>\n",
       "      <td>Albury</td>\n",
       "      <td>12.9</td>\n",
       "      <td>25.7</td>\n",
       "      <td>0.0</td>\n",
       "      <td>NaN</td>\n",
       "      <td>NaN</td>\n",
       "      <td>WSW</td>\n",
       "      <td>46.0</td>\n",
       "      <td>W</td>\n",
       "      <td>...</td>\n",
       "      <td>30.0</td>\n",
       "      <td>1007.6</td>\n",
       "      <td>1008.7</td>\n",
       "      <td>NaN</td>\n",
       "      <td>2.0</td>\n",
       "      <td>21.0</td>\n",
       "      <td>23.2</td>\n",
       "      <td>No</td>\n",
       "      <td>0.0</td>\n",
       "      <td>No</td>\n",
       "    </tr>\n",
       "    <tr>\n",
       "      <td>3</td>\n",
       "      <td>2008-12-04</td>\n",
       "      <td>Albury</td>\n",
       "      <td>9.2</td>\n",
       "      <td>28.0</td>\n",
       "      <td>0.0</td>\n",
       "      <td>NaN</td>\n",
       "      <td>NaN</td>\n",
       "      <td>NE</td>\n",
       "      <td>24.0</td>\n",
       "      <td>SE</td>\n",
       "      <td>...</td>\n",
       "      <td>16.0</td>\n",
       "      <td>1017.6</td>\n",
       "      <td>1012.8</td>\n",
       "      <td>NaN</td>\n",
       "      <td>NaN</td>\n",
       "      <td>18.1</td>\n",
       "      <td>26.5</td>\n",
       "      <td>No</td>\n",
       "      <td>1.0</td>\n",
       "      <td>No</td>\n",
       "    </tr>\n",
       "    <tr>\n",
       "      <td>4</td>\n",
       "      <td>2008-12-05</td>\n",
       "      <td>Albury</td>\n",
       "      <td>17.5</td>\n",
       "      <td>32.3</td>\n",
       "      <td>1.0</td>\n",
       "      <td>NaN</td>\n",
       "      <td>NaN</td>\n",
       "      <td>W</td>\n",
       "      <td>41.0</td>\n",
       "      <td>ENE</td>\n",
       "      <td>...</td>\n",
       "      <td>33.0</td>\n",
       "      <td>1010.8</td>\n",
       "      <td>1006.0</td>\n",
       "      <td>7.0</td>\n",
       "      <td>8.0</td>\n",
       "      <td>17.8</td>\n",
       "      <td>29.7</td>\n",
       "      <td>No</td>\n",
       "      <td>0.2</td>\n",
       "      <td>No</td>\n",
       "    </tr>\n",
       "  </tbody>\n",
       "</table>\n",
       "<p>5 rows × 24 columns</p>\n",
       "</div>"
      ],
      "text/plain": [
       "         Date Location  MinTemp  MaxTemp  Rainfall  Evaporation  Sunshine  \\\n",
       "0  2008-12-01   Albury     13.4     22.9       0.6          NaN       NaN   \n",
       "1  2008-12-02   Albury      7.4     25.1       0.0          NaN       NaN   \n",
       "2  2008-12-03   Albury     12.9     25.7       0.0          NaN       NaN   \n",
       "3  2008-12-04   Albury      9.2     28.0       0.0          NaN       NaN   \n",
       "4  2008-12-05   Albury     17.5     32.3       1.0          NaN       NaN   \n",
       "\n",
       "  WindGustDir  WindGustSpeed WindDir9am  ... Humidity3pm  Pressure9am  \\\n",
       "0           W           44.0          W  ...        22.0       1007.7   \n",
       "1         WNW           44.0        NNW  ...        25.0       1010.6   \n",
       "2         WSW           46.0          W  ...        30.0       1007.6   \n",
       "3          NE           24.0         SE  ...        16.0       1017.6   \n",
       "4           W           41.0        ENE  ...        33.0       1010.8   \n",
       "\n",
       "   Pressure3pm  Cloud9am  Cloud3pm  Temp9am  Temp3pm  RainToday  RISK_MM  \\\n",
       "0       1007.1       8.0       NaN     16.9     21.8         No      0.0   \n",
       "1       1007.8       NaN       NaN     17.2     24.3         No      0.0   \n",
       "2       1008.7       NaN       2.0     21.0     23.2         No      0.0   \n",
       "3       1012.8       NaN       NaN     18.1     26.5         No      1.0   \n",
       "4       1006.0       7.0       8.0     17.8     29.7         No      0.2   \n",
       "\n",
       "   RainTomorrow  \n",
       "0            No  \n",
       "1            No  \n",
       "2            No  \n",
       "3            No  \n",
       "4            No  \n",
       "\n",
       "[5 rows x 24 columns]"
      ]
     },
     "execution_count": 63,
     "metadata": {},
     "output_type": "execute_result"
    }
   ],
   "source": [
    "weather.head()"
   ]
  },
  {
   "cell_type": "markdown",
   "metadata": {},
   "source": [
    "# The dataset has an imbalance problem, maybe due to the actual weather in Australia"
   ]
  },
  {
   "cell_type": "code",
   "execution_count": 64,
   "metadata": {},
   "outputs": [
    {
     "data": {
      "image/png": "[encoded data removed]",
      "text/plain": [
       "<Figure size 432x576 with 1 Axes>"
      ]
     },
     "metadata": {
      "needs_background": "light"
     },
     "output_type": "display_data"
    }
   ],
   "source": [
    "f, ax = plt.subplots(figsize=(6, 8))\n",
    "ax = sns.countplot(x=\"RainTomorrow\", data=weather, palette=\"Set1\")\n",
    "plt.show()"
   ]
  },
  {
   "cell_type": "code",
   "execution_count": 65,
   "metadata": {},
   "outputs": [
    {
     "data": {
      "text/plain": [
       "<bound method NDFrame.describe of               Date Location  MinTemp  MaxTemp  Rainfall  Evaporation  \\\n",
       "0       2008-12-01   Albury     13.4     22.9       0.6          NaN   \n",
       "1       2008-12-02   Albury      7.4     25.1       0.0          NaN   \n",
       "2       2008-12-03   Albury     12.9     25.7       0.0          NaN   \n",
       "3       2008-12-04   Albury      9.2     28.0       0.0          NaN   \n",
       "4       2008-12-05   Albury     17.5     32.3       1.0          NaN   \n",
       "...            ...      ...      ...      ...       ...          ...   \n",
       "142188  2017-06-20    Uluru      3.5     21.8       0.0          NaN   \n",
       "142189  2017-06-21    Uluru      2.8     23.4       0.0          NaN   \n",
       "142190  2017-06-22    Uluru      3.6     25.3       0.0          NaN   \n",
       "142191  2017-06-23    Uluru      5.4     26.9       0.0          NaN   \n",
       "142192  2017-06-24    Uluru      7.8     27.0       0.0          NaN   \n",
       "\n",
       "        Sunshine WindGustDir  WindGustSpeed WindDir9am  ... Humidity3pm  \\\n",
       "0            NaN           W           44.0          W  ...        22.0   \n",
       "1            NaN         WNW           44.0        NNW  ...        25.0   \n",
       "2            NaN         WSW           46.0          W  ...        30.0   \n",
       "3            NaN          NE           24.0         SE  ...        16.0   \n",
       "4            NaN           W           41.0        ENE  ...        33.0   \n",
       "...          ...         ...            ...        ...  ...         ...   \n",
       "142188       NaN           E           31.0        ESE  ...        27.0   \n",
       "142189       NaN           E           31.0         SE  ...        24.0   \n",
       "142190       NaN         NNW           22.0         SE  ...        21.0   \n",
       "142191       NaN           N           37.0         SE  ...        24.0   \n",
       "142192       NaN          SE           28.0        SSE  ...        24.0   \n",
       "\n",
       "        Pressure9am  Pressure3pm  Cloud9am  Cloud3pm  Temp9am  Temp3pm  \\\n",
       "0            1007.7       1007.1       8.0       NaN     16.9     21.8   \n",
       "1            1010.6       1007.8       NaN       NaN     17.2     24.3   \n",
       "2            1007.6       1008.7       NaN       2.0     21.0     23.2   \n",
       "3            1017.6       1012.8       NaN       NaN     18.1     26.5   \n",
       "4            1010.8       1006.0       7.0       8.0     17.8     29.7   \n",
       "...             ...          ...       ...       ...      ...      ...   \n",
       "142188       1024.7       1021.2       NaN       NaN      9.4     20.9   \n",
       "142189       1024.6       1020.3       NaN       NaN     10.1     22.4   \n",
       "142190       1023.5       1019.1       NaN       NaN     10.9     24.5   \n",
       "142191       1021.0       1016.8       NaN       NaN     12.5     26.1   \n",
       "142192       1019.4       1016.5       3.0       2.0     15.1     26.0   \n",
       "\n",
       "        RainToday  RISK_MM  RainTomorrow  \n",
       "0              No      0.0            No  \n",
       "1              No      0.0            No  \n",
       "2              No      0.0            No  \n",
       "3              No      1.0            No  \n",
       "4              No      0.2            No  \n",
       "...           ...      ...           ...  \n",
       "142188         No      0.0            No  \n",
       "142189         No      0.0            No  \n",
       "142190         No      0.0            No  \n",
       "142191         No      0.0            No  \n",
       "142192         No      0.0            No  \n",
       "\n",
       "[142193 rows x 24 columns]>"
      ]
     },
     "execution_count": 65,
     "metadata": {},
     "output_type": "execute_result"
    }
   ],
   "source": [
    "weather.describe"
   ]
  },
  {
   "cell_type": "markdown",
   "metadata": {},
   "source": [
    "# Visalize the missing part of data"
   ]
  },
  {
   "cell_type": "code",
   "execution_count": 66,
   "metadata": {},
   "outputs": [
    {
     "data": {
      "text/plain": [
       "<matplotlib.axes._subplots.AxesSubplot at 0x1a23605610>"
      ]
     },
     "execution_count": 66,
     "metadata": {},
     "output_type": "execute_result"
    },
    {
     "data": {
      "image/png": "[encoded data removed]",
      "text/plain": [
       "<Figure size 432x288 with 1 Axes>"
      ]
     },
     "metadata": {
      "needs_background": "light"
     },
     "output_type": "display_data"
    }
   ],
   "source": [
    "sns.heatmap(weather.isnull(), cbar=False)"
   ]
  },
  {
   "cell_type": "markdown",
   "metadata": {},
   "source": [
    "# Extending the date into year, month, day"
   ]
  },
  {
   "cell_type": "code",
   "execution_count": 67,
   "metadata": {},
   "outputs": [],
   "source": [
    "weather['year'] = weather['Date'].apply(lambda x: x[0:4])\n",
    "weather['month'] = weather['Date'].apply(lambda x: x[5:7])\n",
    "weather['day'] = weather['Date'].apply(lambda x: x[8:])"
   ]
  },
  {
   "cell_type": "code",
   "execution_count": 68,
   "metadata": {},
   "outputs": [],
   "source": [
    "weather = weather.drop([\"Date\",\"Evaporation\", \"Sunshine\", \"Cloud9am\", \"Cloud3pm\"], axis=1) "
   ]
  },
  {
   "cell_type": "markdown",
   "metadata": {},
   "source": [
    "# Adding up Annual rainfall in different cities"
   ]
  },
  {
   "cell_type": "code",
   "execution_count": 69,
   "metadata": {},
   "outputs": [
    {
     "data": {
      "text/html": [
       "<div>\n",
       "<style scoped>\n",
       "    .dataframe tbody tr th:only-of-type {\n",
       "        vertical-align: middle;\n",
       "    }\n",
       "\n",
       "    .dataframe tbody tr th {\n",
       "        vertical-align: top;\n",
       "    }\n",
       "\n",
       "    .dataframe thead th {\n",
       "        text-align: right;\n",
       "    }\n",
       "</style>\n",
       "<table border=\"1\" class=\"dataframe\">\n",
       "  <thead>\n",
       "    <tr style=\"text-align: right;\">\n",
       "      <th></th>\n",
       "      <th>RISK_MM</th>\n",
       "    </tr>\n",
       "    <tr>\n",
       "      <th>Location</th>\n",
       "      <th></th>\n",
       "    </tr>\n",
       "  </thead>\n",
       "  <tbody>\n",
       "    <tr>\n",
       "      <td>Cairns</td>\n",
       "      <td>1715.68</td>\n",
       "    </tr>\n",
       "    <tr>\n",
       "      <td>Darwin</td>\n",
       "      <td>1626.02</td>\n",
       "    </tr>\n",
       "    <tr>\n",
       "      <td>CoffsHarbour</td>\n",
       "      <td>1494.66</td>\n",
       "    </tr>\n",
       "    <tr>\n",
       "      <td>GoldCoast</td>\n",
       "      <td>1123.28</td>\n",
       "    </tr>\n",
       "    <tr>\n",
       "      <td>Sydney</td>\n",
       "      <td>1107.84</td>\n",
       "    </tr>\n",
       "    <tr>\n",
       "      <td>Wollongong</td>\n",
       "      <td>1072.00</td>\n",
       "    </tr>\n",
       "    <tr>\n",
       "      <td>Townsville</td>\n",
       "      <td>1054.82</td>\n",
       "    </tr>\n",
       "    <tr>\n",
       "      <td>Brisbane</td>\n",
       "      <td>994.10</td>\n",
       "    </tr>\n",
       "    <tr>\n",
       "      <td>NorahHead</td>\n",
       "      <td>992.14</td>\n",
       "    </tr>\n",
       "    <tr>\n",
       "      <td>MountGinini</td>\n",
       "      <td>957.02</td>\n",
       "    </tr>\n",
       "    <tr>\n",
       "      <td>Newcastle</td>\n",
       "      <td>940.84</td>\n",
       "    </tr>\n",
       "    <tr>\n",
       "      <td>NorfolkIsland</td>\n",
       "      <td>927.04</td>\n",
       "    </tr>\n",
       "    <tr>\n",
       "      <td>Williamtown</td>\n",
       "      <td>916.81</td>\n",
       "    </tr>\n",
       "    <tr>\n",
       "      <td>SydneyAirport</td>\n",
       "      <td>904.48</td>\n",
       "    </tr>\n",
       "    <tr>\n",
       "      <td>Witchcliffe</td>\n",
       "      <td>854.80</td>\n",
       "    </tr>\n",
       "    <tr>\n",
       "      <td>Walpole</td>\n",
       "      <td>819.54</td>\n",
       "    </tr>\n",
       "    <tr>\n",
       "      <td>Portland</td>\n",
       "      <td>758.52</td>\n",
       "    </tr>\n",
       "    <tr>\n",
       "      <td>Albany</td>\n",
       "      <td>682.80</td>\n",
       "    </tr>\n",
       "    <tr>\n",
       "      <td>Tuggeranong</td>\n",
       "      <td>648.78</td>\n",
       "    </tr>\n",
       "    <tr>\n",
       "      <td>Penrith</td>\n",
       "      <td>644.76</td>\n",
       "    </tr>\n",
       "    <tr>\n",
       "      <td>BadgerysCreek</td>\n",
       "      <td>642.14</td>\n",
       "    </tr>\n",
       "    <tr>\n",
       "      <td>MountGambier</td>\n",
       "      <td>632.34</td>\n",
       "    </tr>\n",
       "    <tr>\n",
       "      <td>Dartmoor</td>\n",
       "      <td>631.68</td>\n",
       "    </tr>\n",
       "    <tr>\n",
       "      <td>Richmond</td>\n",
       "      <td>631.06</td>\n",
       "    </tr>\n",
       "    <tr>\n",
       "      <td>Launceston</td>\n",
       "      <td>608.89</td>\n",
       "    </tr>\n",
       "    <tr>\n",
       "      <td>Perth</td>\n",
       "      <td>608.68</td>\n",
       "    </tr>\n",
       "    <tr>\n",
       "      <td>Canberra</td>\n",
       "      <td>595.32</td>\n",
       "    </tr>\n",
       "    <tr>\n",
       "      <td>Albury</td>\n",
       "      <td>576.42</td>\n",
       "    </tr>\n",
       "    <tr>\n",
       "      <td>Watsonia</td>\n",
       "      <td>558.10</td>\n",
       "    </tr>\n",
       "    <tr>\n",
       "      <td>PerthAirport</td>\n",
       "      <td>530.08</td>\n",
       "    </tr>\n",
       "    <tr>\n",
       "      <td>Ballarat</td>\n",
       "      <td>526.86</td>\n",
       "    </tr>\n",
       "    <tr>\n",
       "      <td>Hobart</td>\n",
       "      <td>510.38</td>\n",
       "    </tr>\n",
       "    <tr>\n",
       "      <td>WaggaWagga</td>\n",
       "      <td>508.88</td>\n",
       "    </tr>\n",
       "    <tr>\n",
       "      <td>Katherine</td>\n",
       "      <td>499.37</td>\n",
       "    </tr>\n",
       "    <tr>\n",
       "      <td>Bendigo</td>\n",
       "      <td>491.32</td>\n",
       "    </tr>\n",
       "    <tr>\n",
       "      <td>Adelaide</td>\n",
       "      <td>483.66</td>\n",
       "    </tr>\n",
       "    <tr>\n",
       "      <td>Moree</td>\n",
       "      <td>465.26</td>\n",
       "    </tr>\n",
       "    <tr>\n",
       "      <td>PearceRAAF</td>\n",
       "      <td>461.00</td>\n",
       "    </tr>\n",
       "    <tr>\n",
       "      <td>Melbourne</td>\n",
       "      <td>455.30</td>\n",
       "    </tr>\n",
       "    <tr>\n",
       "      <td>Sale</td>\n",
       "      <td>453.05</td>\n",
       "    </tr>\n",
       "    <tr>\n",
       "      <td>MelbourneAirport</td>\n",
       "      <td>436.94</td>\n",
       "    </tr>\n",
       "    <tr>\n",
       "      <td>Nuriootpa</td>\n",
       "      <td>417.52</td>\n",
       "    </tr>\n",
       "    <tr>\n",
       "      <td>Cobar</td>\n",
       "      <td>336.84</td>\n",
       "    </tr>\n",
       "    <tr>\n",
       "      <td>SalmonGums</td>\n",
       "      <td>305.62</td>\n",
       "    </tr>\n",
       "    <tr>\n",
       "      <td>Mildura</td>\n",
       "      <td>284.18</td>\n",
       "    </tr>\n",
       "    <tr>\n",
       "      <td>AliceSprings</td>\n",
       "      <td>267.68</td>\n",
       "    </tr>\n",
       "    <tr>\n",
       "      <td>Nhil</td>\n",
       "      <td>146.76</td>\n",
       "    </tr>\n",
       "    <tr>\n",
       "      <td>Woomera</td>\n",
       "      <td>146.68</td>\n",
       "    </tr>\n",
       "    <tr>\n",
       "      <td>Uluru</td>\n",
       "      <td>119.30</td>\n",
       "    </tr>\n",
       "  </tbody>\n",
       "</table>\n",
       "</div>"
      ],
      "text/plain": [
       "                  RISK_MM\n",
       "Location                 \n",
       "Cairns            1715.68\n",
       "Darwin            1626.02\n",
       "CoffsHarbour      1494.66\n",
       "GoldCoast         1123.28\n",
       "Sydney            1107.84\n",
       "Wollongong        1072.00\n",
       "Townsville        1054.82\n",
       "Brisbane           994.10\n",
       "NorahHead          992.14\n",
       "MountGinini        957.02\n",
       "Newcastle          940.84\n",
       "NorfolkIsland      927.04\n",
       "Williamtown        916.81\n",
       "SydneyAirport      904.48\n",
       "Witchcliffe        854.80\n",
       "Walpole            819.54\n",
       "Portland           758.52\n",
       "Albany             682.80\n",
       "Tuggeranong        648.78\n",
       "Penrith            644.76\n",
       "BadgerysCreek      642.14\n",
       "MountGambier       632.34\n",
       "Dartmoor           631.68\n",
       "Richmond           631.06\n",
       "Launceston         608.89\n",
       "Perth              608.68\n",
       "Canberra           595.32\n",
       "Albury             576.42\n",
       "Watsonia           558.10\n",
       "PerthAirport       530.08\n",
       "Ballarat           526.86\n",
       "Hobart             510.38\n",
       "WaggaWagga         508.88\n",
       "Katherine          499.37\n",
       "Bendigo            491.32\n",
       "Adelaide           483.66\n",
       "Moree              465.26\n",
       "PearceRAAF         461.00\n",
       "Melbourne          455.30\n",
       "Sale               453.05\n",
       "MelbourneAirport   436.94\n",
       "Nuriootpa          417.52\n",
       "Cobar              336.84\n",
       "SalmonGums         305.62\n",
       "Mildura            284.18\n",
       "AliceSprings       267.68\n",
       "Nhil               146.76\n",
       "Woomera            146.68\n",
       "Uluru              119.30"
      ]
     },
     "execution_count": 69,
     "metadata": {},
     "output_type": "execute_result"
    }
   ],
   "source": [
    "annual_rain = weather.groupby(['Location']).RISK_MM.sum()/10\n",
    "a_r = pd.DataFrame(annual_rain)\n",
    "pd.set_option('display.max_rows', 1000)\n",
    "mm = a_r.sort_values(by='RISK_MM', ascending=False)\n",
    "mm"
   ]
  },
  {
   "cell_type": "code",
   "execution_count": 70,
   "metadata": {},
   "outputs": [],
   "source": [
    "weather['rain_categories'] = weather['Location']"
   ]
  },
  {
   "cell_type": "markdown",
   "metadata": {},
   "source": [
    "# Categorise the cities by annual rainfall"
   ]
  },
  {
   "cell_type": "code",
   "execution_count": 71,
   "metadata": {},
   "outputs": [
    {
     "data": {
      "text/plain": [
       "0         4\n",
       "1         4\n",
       "2         4\n",
       "3         4\n",
       "4         4\n",
       "         ..\n",
       "142188    6\n",
       "142189    6\n",
       "142190    6\n",
       "142191    6\n",
       "142192    6\n",
       "Name: rain_categories, Length: 142193, dtype: int64"
      ]
     },
     "execution_count": 71,
     "metadata": {},
     "output_type": "execute_result"
    }
   ],
   "source": [
    "weather.loc[weather['Location'] == 'Cairns', 'rain_categories'] = 1\n",
    "weather.loc[weather['Location'] == 'Darwin', 'rain_categories'] = 1\n",
    "weather.loc[weather['Location'] == 'CoffsHarbour', 'rain_categories'] = 1\n",
    "weather.loc[weather['Location'] == 'GoldCoast', 'rain_categories'] = 2\n",
    "weather.loc[weather['Location'] == 'Sydney', 'rain_categories'] = 2\n",
    "weather.loc[weather['Location'] == 'Wollongong', 'rain_categories'] = 2\n",
    "weather.loc[weather['Location'] == 'Townsville', 'rain_categories'] = 2\n",
    "weather.loc[weather['Location'] == 'Brisbane', 'rain_categories'] = 2\n",
    "weather.loc[weather['Location'] == 'NorahHead', 'rain_categories'] = 2\n",
    "weather.loc[weather['Location'] == 'MountGinini', 'rain_categories'] = 2\n",
    "weather.loc[weather['Location'] == 'Newcastle', 'rain_categories'] = 2\n",
    "weather.loc[weather['Location'] == 'NorfolkIsland', 'rain_categories'] = 2\n",
    "weather.loc[weather['Location'] == 'Williamtown', 'rain_categories'] = 2\n",
    "weather.loc[weather['Location'] == 'SydneyAirport', 'rain_categories'] = 2\n",
    "weather.loc[weather['Location'] == 'Witchcliffe', 'rain_categories'] = 2\n",
    "weather.loc[weather['Location'] == 'Walpole', 'rain_categories'] = 2\n",
    "weather.loc[weather['Location'] == 'Portland', 'rain_categories'] = 3\n",
    "weather.loc[weather['Location'] == 'Albany', 'rain_categories'] = 3\n",
    "weather.loc[weather['Location'] == 'Tuggeranong', 'rain_categories'] = 3\n",
    "weather.loc[weather['Location'] == 'Penrith', 'rain_categories'] = 3\n",
    "weather.loc[weather['Location'] == 'BadgerysCreek', 'rain_categories'] = 3\n",
    "weather.loc[weather['Location'] == 'MountGambier', 'rain_categories'] = 3\n",
    "weather.loc[weather['Location'] == 'Dartmoor', 'rain_categories'] = 3\n",
    "weather.loc[weather['Location'] == 'Richmond', 'rain_categories'] = 3\n",
    "weather.loc[weather['Location'] == 'Launceston', 'rain_categories'] = 3\n",
    "weather.loc[weather['Location'] == 'Perth', 'rain_categories'] = 3\n",
    "weather.loc[weather['Location'] == 'Canberra', 'rain_categories'] = 4\n",
    "weather.loc[weather['Location'] == 'Albury', 'rain_categories'] = 4\n",
    "weather.loc[weather['Location'] == 'Watsonia', 'rain_categories'] = 4\n",
    "weather.loc[weather['Location'] == 'PerthAirport', 'rain_categories'] = 4\n",
    "weather.loc[weather['Location'] == 'Ballarat', 'rain_categories'] = 4\n",
    "weather.loc[weather['Location'] == 'Hobart', 'rain_categories'] = 4\n",
    "weather.loc[weather['Location'] == 'WaggaWagga', 'rain_categories'] = 4\n",
    "weather.loc[weather['Location'] == 'Katherine', 'rain_categories'] = 5\n",
    "weather.loc[weather['Location'] == 'Bendigo', 'rain_categories'] = 5\n",
    "weather.loc[weather['Location'] == 'Adelaide', 'rain_categories'] = 5\n",
    "weather.loc[weather['Location'] == 'Moree', 'rain_categories'] = 5\n",
    "weather.loc[weather['Location'] == 'PearceRAAF', 'rain_categories'] = 5\n",
    "weather.loc[weather['Location'] == 'Melbourne', 'rain_categories'] = 5\n",
    "weather.loc[weather['Location'] == 'Sale', 'rain_categories'] = 5\n",
    "weather.loc[weather['Location'] == 'MelbourneAirport', 'rain_categories'] = 5\n",
    "weather.loc[weather['Location'] == 'Nuriootpa', 'rain_categories'] = 5\n",
    "weather.loc[weather['Location'] == 'Cobar', 'rain_categories'] = 6\n",
    "weather.loc[weather['Location'] == 'SalmonGums', 'rain_categories'] = 6\n",
    "weather.loc[weather['Location'] == 'Mildura', 'rain_categories'] = 6\n",
    "weather.loc[weather['Location'] == 'AliceSprings', 'rain_categories'] = 6\n",
    "weather.loc[weather['Location'] == 'Nhil', 'rain_categories'] = 6\n",
    "weather.loc[weather['Location'] == 'Woomera', 'rain_categories'] = 6\n",
    "weather.loc[weather['Location'] == 'Uluru', 'rain_categories'] = 6\n",
    "\n",
    "weather['rain_categories'] "
   ]
  },
  {
   "cell_type": "code",
   "execution_count": 72,
   "metadata": {},
   "outputs": [
    {
     "data": {
      "text/plain": [
       "<matplotlib.axes._subplots.AxesSubplot at 0x1a40fb5950>"
      ]
     },
     "execution_count": 72,
     "metadata": {},
     "output_type": "execute_result"
    },
    {
     "data": {
      "image/png": "[encoded data removed]",
      "text/plain": [
       "<Figure size 432x288 with 1 Axes>"
      ]
     },
     "metadata": {
      "needs_background": "light"
     },
     "output_type": "display_data"
    }
   ],
   "source": [
    "sns.heatmap(weather.isnull(), cbar=False)"
   ]
  },
  {
   "cell_type": "code",
   "execution_count": 73,
   "metadata": {},
   "outputs": [
    {
     "data": {
      "text/plain": [
       "Index(['Location', 'MinTemp', 'MaxTemp', 'Rainfall', 'WindGustDir',\n",
       "       'WindGustSpeed', 'WindDir9am', 'WindDir3pm', 'WindSpeed9am',\n",
       "       'WindSpeed3pm', 'Humidity9am', 'Humidity3pm', 'Pressure9am',\n",
       "       'Pressure3pm', 'Temp9am', 'Temp3pm', 'RainToday', 'RISK_MM',\n",
       "       'RainTomorrow', 'year', 'month', 'day', 'rain_categories'],\n",
       "      dtype='object')"
      ]
     },
     "execution_count": 73,
     "metadata": {},
     "output_type": "execute_result"
    }
   ],
   "source": [
    "weather.columns"
   ]
  },
  {
   "cell_type": "code",
   "execution_count": 74,
   "metadata": {},
   "outputs": [],
   "source": [
    "weather = weather.dropna()"
   ]
  },
  {
   "cell_type": "code",
   "execution_count": 75,
   "metadata": {},
   "outputs": [],
   "source": [
    "weather = weather.drop(['Location','WindGustDir','WindGustSpeed','WindDir9am','WindSpeed9am','year','day','RISK_MM'], axis=1)"
   ]
  },
  {
   "cell_type": "code",
   "execution_count": 76,
   "metadata": {},
   "outputs": [],
   "source": [
    "# encoding the data\n",
    "windd3 = pd.get_dummies(weather['WindDir3pm'], drop_first=True)\n",
    "rainToday = pd.get_dummies(weather['RainToday'], drop_first=True)"
   ]
  },
  {
   "cell_type": "code",
   "execution_count": 77,
   "metadata": {},
   "outputs": [],
   "source": [
    "weather = weather.drop(['WindDir3pm', 'RainToday'], 1)"
   ]
  },
  {
   "cell_type": "code",
   "execution_count": 78,
   "metadata": {},
   "outputs": [
    {
     "data": {
      "text/html": [
       "<div>\n",
       "<style scoped>\n",
       "    .dataframe tbody tr th:only-of-type {\n",
       "        vertical-align: middle;\n",
       "    }\n",
       "\n",
       "    .dataframe tbody tr th {\n",
       "        vertical-align: top;\n",
       "    }\n",
       "\n",
       "    .dataframe thead th {\n",
       "        text-align: right;\n",
       "    }\n",
       "</style>\n",
       "<table border=\"1\" class=\"dataframe\">\n",
       "  <thead>\n",
       "    <tr style=\"text-align: right;\">\n",
       "      <th></th>\n",
       "      <th>MinTemp</th>\n",
       "      <th>MaxTemp</th>\n",
       "      <th>Rainfall</th>\n",
       "      <th>WindSpeed3pm</th>\n",
       "      <th>Humidity9am</th>\n",
       "      <th>Humidity3pm</th>\n",
       "      <th>Pressure9am</th>\n",
       "      <th>Pressure3pm</th>\n",
       "      <th>Temp9am</th>\n",
       "      <th>Temp3pm</th>\n",
       "      <th>...</th>\n",
       "      <th>NW</th>\n",
       "      <th>S</th>\n",
       "      <th>SE</th>\n",
       "      <th>SSE</th>\n",
       "      <th>SSW</th>\n",
       "      <th>SW</th>\n",
       "      <th>W</th>\n",
       "      <th>WNW</th>\n",
       "      <th>WSW</th>\n",
       "      <th>Yes</th>\n",
       "    </tr>\n",
       "  </thead>\n",
       "  <tbody>\n",
       "    <tr>\n",
       "      <td>0</td>\n",
       "      <td>13.4</td>\n",
       "      <td>22.9</td>\n",
       "      <td>0.6</td>\n",
       "      <td>24.0</td>\n",
       "      <td>71.0</td>\n",
       "      <td>22.0</td>\n",
       "      <td>1007.7</td>\n",
       "      <td>1007.1</td>\n",
       "      <td>16.9</td>\n",
       "      <td>21.8</td>\n",
       "      <td>...</td>\n",
       "      <td>0</td>\n",
       "      <td>0</td>\n",
       "      <td>0</td>\n",
       "      <td>0</td>\n",
       "      <td>0</td>\n",
       "      <td>0</td>\n",
       "      <td>0</td>\n",
       "      <td>1</td>\n",
       "      <td>0</td>\n",
       "      <td>0</td>\n",
       "    </tr>\n",
       "    <tr>\n",
       "      <td>1</td>\n",
       "      <td>7.4</td>\n",
       "      <td>25.1</td>\n",
       "      <td>0.0</td>\n",
       "      <td>22.0</td>\n",
       "      <td>44.0</td>\n",
       "      <td>25.0</td>\n",
       "      <td>1010.6</td>\n",
       "      <td>1007.8</td>\n",
       "      <td>17.2</td>\n",
       "      <td>24.3</td>\n",
       "      <td>...</td>\n",
       "      <td>0</td>\n",
       "      <td>0</td>\n",
       "      <td>0</td>\n",
       "      <td>0</td>\n",
       "      <td>0</td>\n",
       "      <td>0</td>\n",
       "      <td>0</td>\n",
       "      <td>0</td>\n",
       "      <td>1</td>\n",
       "      <td>0</td>\n",
       "    </tr>\n",
       "    <tr>\n",
       "      <td>2</td>\n",
       "      <td>12.9</td>\n",
       "      <td>25.7</td>\n",
       "      <td>0.0</td>\n",
       "      <td>26.0</td>\n",
       "      <td>38.0</td>\n",
       "      <td>30.0</td>\n",
       "      <td>1007.6</td>\n",
       "      <td>1008.7</td>\n",
       "      <td>21.0</td>\n",
       "      <td>23.2</td>\n",
       "      <td>...</td>\n",
       "      <td>0</td>\n",
       "      <td>0</td>\n",
       "      <td>0</td>\n",
       "      <td>0</td>\n",
       "      <td>0</td>\n",
       "      <td>0</td>\n",
       "      <td>0</td>\n",
       "      <td>0</td>\n",
       "      <td>1</td>\n",
       "      <td>0</td>\n",
       "    </tr>\n",
       "    <tr>\n",
       "      <td>3</td>\n",
       "      <td>9.2</td>\n",
       "      <td>28.0</td>\n",
       "      <td>0.0</td>\n",
       "      <td>9.0</td>\n",
       "      <td>45.0</td>\n",
       "      <td>16.0</td>\n",
       "      <td>1017.6</td>\n",
       "      <td>1012.8</td>\n",
       "      <td>18.1</td>\n",
       "      <td>26.5</td>\n",
       "      <td>...</td>\n",
       "      <td>0</td>\n",
       "      <td>0</td>\n",
       "      <td>0</td>\n",
       "      <td>0</td>\n",
       "      <td>0</td>\n",
       "      <td>0</td>\n",
       "      <td>0</td>\n",
       "      <td>0</td>\n",
       "      <td>0</td>\n",
       "      <td>0</td>\n",
       "    </tr>\n",
       "    <tr>\n",
       "      <td>4</td>\n",
       "      <td>17.5</td>\n",
       "      <td>32.3</td>\n",
       "      <td>1.0</td>\n",
       "      <td>20.0</td>\n",
       "      <td>82.0</td>\n",
       "      <td>33.0</td>\n",
       "      <td>1010.8</td>\n",
       "      <td>1006.0</td>\n",
       "      <td>17.8</td>\n",
       "      <td>29.7</td>\n",
       "      <td>...</td>\n",
       "      <td>1</td>\n",
       "      <td>0</td>\n",
       "      <td>0</td>\n",
       "      <td>0</td>\n",
       "      <td>0</td>\n",
       "      <td>0</td>\n",
       "      <td>0</td>\n",
       "      <td>0</td>\n",
       "      <td>0</td>\n",
       "      <td>0</td>\n",
       "    </tr>\n",
       "    <tr>\n",
       "      <td>...</td>\n",
       "      <td>...</td>\n",
       "      <td>...</td>\n",
       "      <td>...</td>\n",
       "      <td>...</td>\n",
       "      <td>...</td>\n",
       "      <td>...</td>\n",
       "      <td>...</td>\n",
       "      <td>...</td>\n",
       "      <td>...</td>\n",
       "      <td>...</td>\n",
       "      <td>...</td>\n",
       "      <td>...</td>\n",
       "      <td>...</td>\n",
       "      <td>...</td>\n",
       "      <td>...</td>\n",
       "      <td>...</td>\n",
       "      <td>...</td>\n",
       "      <td>...</td>\n",
       "      <td>...</td>\n",
       "      <td>...</td>\n",
       "      <td>...</td>\n",
       "    </tr>\n",
       "    <tr>\n",
       "      <td>142188</td>\n",
       "      <td>3.5</td>\n",
       "      <td>21.8</td>\n",
       "      <td>0.0</td>\n",
       "      <td>13.0</td>\n",
       "      <td>59.0</td>\n",
       "      <td>27.0</td>\n",
       "      <td>1024.7</td>\n",
       "      <td>1021.2</td>\n",
       "      <td>9.4</td>\n",
       "      <td>20.9</td>\n",
       "      <td>...</td>\n",
       "      <td>0</td>\n",
       "      <td>0</td>\n",
       "      <td>0</td>\n",
       "      <td>0</td>\n",
       "      <td>0</td>\n",
       "      <td>0</td>\n",
       "      <td>0</td>\n",
       "      <td>0</td>\n",
       "      <td>0</td>\n",
       "      <td>0</td>\n",
       "    </tr>\n",
       "    <tr>\n",
       "      <td>142189</td>\n",
       "      <td>2.8</td>\n",
       "      <td>23.4</td>\n",
       "      <td>0.0</td>\n",
       "      <td>11.0</td>\n",
       "      <td>51.0</td>\n",
       "      <td>24.0</td>\n",
       "      <td>1024.6</td>\n",
       "      <td>1020.3</td>\n",
       "      <td>10.1</td>\n",
       "      <td>22.4</td>\n",
       "      <td>...</td>\n",
       "      <td>0</td>\n",
       "      <td>0</td>\n",
       "      <td>0</td>\n",
       "      <td>0</td>\n",
       "      <td>0</td>\n",
       "      <td>0</td>\n",
       "      <td>0</td>\n",
       "      <td>0</td>\n",
       "      <td>0</td>\n",
       "      <td>0</td>\n",
       "    </tr>\n",
       "    <tr>\n",
       "      <td>142190</td>\n",
       "      <td>3.6</td>\n",
       "      <td>25.3</td>\n",
       "      <td>0.0</td>\n",
       "      <td>9.0</td>\n",
       "      <td>56.0</td>\n",
       "      <td>21.0</td>\n",
       "      <td>1023.5</td>\n",
       "      <td>1019.1</td>\n",
       "      <td>10.9</td>\n",
       "      <td>24.5</td>\n",
       "      <td>...</td>\n",
       "      <td>0</td>\n",
       "      <td>0</td>\n",
       "      <td>0</td>\n",
       "      <td>0</td>\n",
       "      <td>0</td>\n",
       "      <td>0</td>\n",
       "      <td>0</td>\n",
       "      <td>0</td>\n",
       "      <td>0</td>\n",
       "      <td>0</td>\n",
       "    </tr>\n",
       "    <tr>\n",
       "      <td>142191</td>\n",
       "      <td>5.4</td>\n",
       "      <td>26.9</td>\n",
       "      <td>0.0</td>\n",
       "      <td>9.0</td>\n",
       "      <td>53.0</td>\n",
       "      <td>24.0</td>\n",
       "      <td>1021.0</td>\n",
       "      <td>1016.8</td>\n",
       "      <td>12.5</td>\n",
       "      <td>26.1</td>\n",
       "      <td>...</td>\n",
       "      <td>0</td>\n",
       "      <td>0</td>\n",
       "      <td>0</td>\n",
       "      <td>0</td>\n",
       "      <td>0</td>\n",
       "      <td>0</td>\n",
       "      <td>0</td>\n",
       "      <td>1</td>\n",
       "      <td>0</td>\n",
       "      <td>0</td>\n",
       "    </tr>\n",
       "    <tr>\n",
       "      <td>142192</td>\n",
       "      <td>7.8</td>\n",
       "      <td>27.0</td>\n",
       "      <td>0.0</td>\n",
       "      <td>7.0</td>\n",
       "      <td>51.0</td>\n",
       "      <td>24.0</td>\n",
       "      <td>1019.4</td>\n",
       "      <td>1016.5</td>\n",
       "      <td>15.1</td>\n",
       "      <td>26.0</td>\n",
       "      <td>...</td>\n",
       "      <td>0</td>\n",
       "      <td>0</td>\n",
       "      <td>0</td>\n",
       "      <td>0</td>\n",
       "      <td>0</td>\n",
       "      <td>0</td>\n",
       "      <td>0</td>\n",
       "      <td>0</td>\n",
       "      <td>0</td>\n",
       "      <td>0</td>\n",
       "    </tr>\n",
       "  </tbody>\n",
       "</table>\n",
       "<p>112925 rows × 29 columns</p>\n",
       "</div>"
      ],
      "text/plain": [
       "        MinTemp  MaxTemp  Rainfall  WindSpeed3pm  Humidity9am  Humidity3pm  \\\n",
       "0          13.4     22.9       0.6          24.0         71.0         22.0   \n",
       "1           7.4     25.1       0.0          22.0         44.0         25.0   \n",
       "2          12.9     25.7       0.0          26.0         38.0         30.0   \n",
       "3           9.2     28.0       0.0           9.0         45.0         16.0   \n",
       "4          17.5     32.3       1.0          20.0         82.0         33.0   \n",
       "...         ...      ...       ...           ...          ...          ...   \n",
       "142188      3.5     21.8       0.0          13.0         59.0         27.0   \n",
       "142189      2.8     23.4       0.0          11.0         51.0         24.0   \n",
       "142190      3.6     25.3       0.0           9.0         56.0         21.0   \n",
       "142191      5.4     26.9       0.0           9.0         53.0         24.0   \n",
       "142192      7.8     27.0       0.0           7.0         51.0         24.0   \n",
       "\n",
       "        Pressure9am  Pressure3pm  Temp9am  Temp3pm  ... NW  S  SE  SSE  SSW  \\\n",
       "0            1007.7       1007.1     16.9     21.8  ...  0  0   0    0    0   \n",
       "1            1010.6       1007.8     17.2     24.3  ...  0  0   0    0    0   \n",
       "2            1007.6       1008.7     21.0     23.2  ...  0  0   0    0    0   \n",
       "3            1017.6       1012.8     18.1     26.5  ...  0  0   0    0    0   \n",
       "4            1010.8       1006.0     17.8     29.7  ...  1  0   0    0    0   \n",
       "...             ...          ...      ...      ...  ... .. ..  ..  ...  ...   \n",
       "142188       1024.7       1021.2      9.4     20.9  ...  0  0   0    0    0   \n",
       "142189       1024.6       1020.3     10.1     22.4  ...  0  0   0    0    0   \n",
       "142190       1023.5       1019.1     10.9     24.5  ...  0  0   0    0    0   \n",
       "142191       1021.0       1016.8     12.5     26.1  ...  0  0   0    0    0   \n",
       "142192       1019.4       1016.5     15.1     26.0  ...  0  0   0    0    0   \n",
       "\n",
       "        SW  W  WNW  WSW  Yes  \n",
       "0        0  0    1    0    0  \n",
       "1        0  0    0    1    0  \n",
       "2        0  0    0    1    0  \n",
       "3        0  0    0    0    0  \n",
       "4        0  0    0    0    0  \n",
       "...     .. ..  ...  ...  ...  \n",
       "142188   0  0    0    0    0  \n",
       "142189   0  0    0    0    0  \n",
       "142190   0  0    0    0    0  \n",
       "142191   0  0    1    0    0  \n",
       "142192   0  0    0    0    0  \n",
       "\n",
       "[112925 rows x 29 columns]"
      ]
     },
     "execution_count": 78,
     "metadata": {},
     "output_type": "execute_result"
    }
   ],
   "source": [
    "# Use  .concat() method to merge the series data into one dataframe\n",
    "new_weather = pd.concat([weather, windd3, rainToday], axis=1)\n",
    "new_weather"
   ]
  },
  {
   "cell_type": "code",
   "execution_count": 79,
   "metadata": {},
   "outputs": [
    {
     "data": {
      "text/plain": [
       "MinTemp            False\n",
       "MaxTemp            False\n",
       "Rainfall           False\n",
       "WindSpeed3pm       False\n",
       "Humidity9am        False\n",
       "Humidity3pm        False\n",
       "Pressure9am        False\n",
       "Pressure3pm        False\n",
       "Temp9am            False\n",
       "Temp3pm            False\n",
       "RainTomorrow       False\n",
       "month              False\n",
       "rain_categories    False\n",
       "ENE                False\n",
       "ESE                False\n",
       "N                  False\n",
       "NE                 False\n",
       "NNE                False\n",
       "NNW                False\n",
       "NW                 False\n",
       "S                  False\n",
       "SE                 False\n",
       "SSE                False\n",
       "SSW                False\n",
       "SW                 False\n",
       "W                  False\n",
       "WNW                False\n",
       "WSW                False\n",
       "Yes                False\n",
       "dtype: bool"
      ]
     },
     "execution_count": 79,
     "metadata": {},
     "output_type": "execute_result"
    }
   ],
   "source": [
    "new_weather.isnull().any()"
   ]
  },
  {
   "cell_type": "code",
   "execution_count": 80,
   "metadata": {},
   "outputs": [
    {
     "data": {
      "text/plain": [
       "No     87906\n",
       "Yes    25019\n",
       "Name: RainTomorrow, dtype: int64"
      ]
     },
     "execution_count": 80,
     "metadata": {},
     "output_type": "execute_result"
    }
   ],
   "source": [
    "new_weather.RainTomorrow.value_counts()"
   ]
  },
  {
   "cell_type": "code",
   "execution_count": 81,
   "metadata": {},
   "outputs": [],
   "source": [
    "new_weather['RainTomorrow']=new_weather.RainTomorrow.replace('No', '0').replace('Yes', '1')"
   ]
  },
  {
   "cell_type": "code",
   "execution_count": 82,
   "metadata": {},
   "outputs": [],
   "source": [
    "Y = new_weather[\"RainTomorrow\"]\n",
    "X = new_weather.drop([\"RainTomorrow\"], axis=1)"
   ]
  },
  {
   "cell_type": "code",
   "execution_count": 25,
   "metadata": {},
   "outputs": [],
   "source": [
    "from sklearn import preprocessing"
   ]
  },
  {
   "cell_type": "code",
   "execution_count": 26,
   "metadata": {},
   "outputs": [],
   "source": [
    "min_max_scaler = preprocessing.MinMaxScaler()"
   ]
  },
  {
   "cell_type": "code",
   "execution_count": 27,
   "metadata": {},
   "outputs": [],
   "source": [
    "X_scaled = pd.DataFrame(min_max_scaler.fit_transform(X), columns=X.columns)"
   ]
  },
  {
   "cell_type": "code",
   "execution_count": 28,
   "metadata": {},
   "outputs": [],
   "source": [
    "from sklearn.model_selection import train_test_split\n",
    "X_train, X_test, Y_train, Y_test = train_test_split(X_scaled, Y, test_size=0.3, random_state=42)"
   ]
  },
  {
   "cell_type": "markdown",
   "metadata": {},
   "source": [
    "# Apply on SVC"
   ]
  },
  {
   "cell_type": "code",
   "execution_count": 29,
   "metadata": {},
   "outputs": [],
   "source": [
    "from sklearn.svm import SVC\n",
    "\n",
    "clf = SVC(gamma='scale')"
   ]
  },
  {
   "cell_type": "code",
   "execution_count": 30,
   "metadata": {},
   "outputs": [
    {
     "data": {
      "text/plain": [
       "SVC(C=1.0, break_ties=False, cache_size=200, class_weight=None, coef0=0.0,\n",
       "    decision_function_shape='ovr', degree=3, gamma='scale', kernel='rbf',\n",
       "    max_iter=-1, probability=False, random_state=None, shrinking=True,\n",
       "    tol=0.001, verbose=False)"
      ]
     },
     "execution_count": 30,
     "metadata": {},
     "output_type": "execute_result"
    }
   ],
   "source": [
    "clf.fit(X_scaled, Y)"
   ]
  },
  {
   "cell_type": "code",
   "execution_count": 31,
   "metadata": {},
   "outputs": [],
   "source": [
    "predictions = clf.predict(X_test)"
   ]
  },
  {
   "cell_type": "code",
   "execution_count": 32,
   "metadata": {},
   "outputs": [],
   "source": [
    "from sklearn.metrics import accuracy_score\n",
    "\n",
    "accuracy = accuracy_score(predictions, Y_test)"
   ]
  },
  {
   "cell_type": "code",
   "execution_count": 33,
   "metadata": {},
   "outputs": [
    {
     "data": {
      "text/plain": [
       "0.8467146820945747"
      ]
     },
     "execution_count": 33,
     "metadata": {},
     "output_type": "execute_result"
    }
   ],
   "source": [
    "accuracy"
   ]
  },
  {
   "cell_type": "code",
   "execution_count": 34,
   "metadata": {},
   "outputs": [
    {
     "name": "stdout",
     "output_type": "stream",
     "text": [
      "              precision    recall  f1-score   support\n",
      "\n",
      "           0       0.86      0.97      0.91     26252\n",
      "           1       0.79      0.44      0.56      7626\n",
      "\n",
      "    accuracy                           0.85     33878\n",
      "   macro avg       0.82      0.70      0.74     33878\n",
      "weighted avg       0.84      0.85      0.83     33878\n",
      "\n"
     ]
    }
   ],
   "source": [
    "from sklearn.metrics import classification_report\n",
    "from sklearn.metrics import confusion_matrix\n",
    "print(classification_report(Y_test,predictions))"
   ]
  },
  {
   "cell_type": "code",
   "execution_count": 35,
   "metadata": {},
   "outputs": [
    {
     "name": "stdout",
     "output_type": "stream",
     "text": [
      "[3346, 913]\n",
      "[4280, 25339]\n"
     ]
    }
   ],
   "source": [
    "from sklearn.metrics import confusion_matrix\n",
    "tn, fp, fn, tp = confusion_matrix(Y_test, predictions).ravel()\n",
    "print([tp,fp])\n",
    "print([fn,tn])"
   ]
  },
  {
   "cell_type": "markdown",
   "metadata": {},
   "source": [
    "# Apply on RandomForest"
   ]
  },
  {
   "cell_type": "code",
   "execution_count": 36,
   "metadata": {},
   "outputs": [
    {
     "name": "stdout",
     "output_type": "stream",
     "text": [
      "0.8317787354625421\n"
     ]
    }
   ],
   "source": [
    "from sklearn.ensemble import RandomForestClassifier\n",
    "from sklearn.metrics import accuracy_score\n",
    "\n",
    "rnd_clf = RandomForestClassifier(n_estimators=500, max_leaf_nodes=16, n_jobs=-1, random_state=42)\n",
    "rnd_clf.fit(X_train, Y_train)\n",
    "\n",
    "Y_pred_rf = rnd_clf.predict(X_test)\n",
    "print(accuracy_score(Y_test, Y_pred_rf))"
   ]
  },
  {
   "cell_type": "code",
   "execution_count": 37,
   "metadata": {},
   "outputs": [
    {
     "name": "stdout",
     "output_type": "stream",
     "text": [
      "              precision    recall  f1-score   support\n",
      "\n",
      "           0       0.86      0.97      0.91     26252\n",
      "           1       0.79      0.44      0.56      7626\n",
      "\n",
      "    accuracy                           0.85     33878\n",
      "   macro avg       0.82      0.70      0.74     33878\n",
      "weighted avg       0.84      0.85      0.83     33878\n",
      "\n"
     ]
    }
   ],
   "source": [
    "from sklearn.metrics import classification_report\n",
    "from sklearn.metrics import confusion_matrix\n",
    "print(classification_report(Y_test,predictions))"
   ]
  },
  {
   "cell_type": "code",
   "execution_count": 38,
   "metadata": {},
   "outputs": [
    {
     "name": "stdout",
     "output_type": "stream",
     "text": [
      "[3346, 913]\n",
      "[4280, 25339]\n"
     ]
    }
   ],
   "source": [
    "from sklearn.metrics import confusion_matrix\n",
    "tn, fp, fn, tp = confusion_matrix(Y_test, predictions).ravel()\n",
    "print([tp,fp])\n",
    "print([fn,tn])"
   ]
  },
  {
   "cell_type": "code",
   "execution_count": 39,
   "metadata": {},
   "outputs": [
    {
     "data": {
      "text/plain": [
       "AdaBoostClassifier(algorithm='SAMME.R',\n",
       "                   base_estimator=DecisionTreeClassifier(ccp_alpha=0.0,\n",
       "                                                         class_weight=None,\n",
       "                                                         criterion='gini',\n",
       "                                                         max_depth=2,\n",
       "                                                         max_features=None,\n",
       "                                                         max_leaf_nodes=None,\n",
       "                                                         min_impurity_decrease=0.0,\n",
       "                                                         min_impurity_split=None,\n",
       "                                                         min_samples_leaf=1,\n",
       "                                                         min_samples_split=2,\n",
       "                                                         min_weight_fraction_leaf=0.0,\n",
       "                                                         presort='deprecated',\n",
       "                                                         random_state=None,\n",
       "                                                         splitter='best'),\n",
       "                   learning_rate=0.05, n_estimators=200, random_state=42)"
      ]
     },
     "execution_count": 39,
     "metadata": {},
     "output_type": "execute_result"
    }
   ],
   "source": [
    "from sklearn.ensemble import AdaBoostClassifier\n",
    "from sklearn.tree import DecisionTreeClassifier\n",
    "\n",
    "ada_clf = AdaBoostClassifier(\n",
    "    DecisionTreeClassifier(max_depth=2), n_estimators=200,learning_rate=0.05, random_state=42)\n",
    "ada_clf.fit(X_train, Y_train)"
   ]
  },
  {
   "cell_type": "code",
   "execution_count": 40,
   "metadata": {},
   "outputs": [
    {
     "name": "stdout",
     "output_type": "stream",
     "text": [
      "0.8317787354625421\n"
     ]
    }
   ],
   "source": [
    "y_pred = ada_clf.predict(X_test)\n",
    "print(accuracy_score(Y_test, Y_pred_rf))"
   ]
  },
  {
   "cell_type": "code",
   "execution_count": 41,
   "metadata": {},
   "outputs": [
    {
     "name": "stdout",
     "output_type": "stream",
     "text": [
      "              precision    recall  f1-score   support\n",
      "\n",
      "           0       0.86      0.97      0.91     26252\n",
      "           1       0.79      0.44      0.56      7626\n",
      "\n",
      "    accuracy                           0.85     33878\n",
      "   macro avg       0.82      0.70      0.74     33878\n",
      "weighted avg       0.84      0.85      0.83     33878\n",
      "\n"
     ]
    }
   ],
   "source": [
    "from sklearn.metrics import classification_report\n",
    "from sklearn.metrics import confusion_matrix\n",
    "print(classification_report(Y_test,predictions))"
   ]
  },
  {
   "cell_type": "code",
   "execution_count": 42,
   "metadata": {},
   "outputs": [
    {
     "name": "stdout",
     "output_type": "stream",
     "text": [
      "[3346, 913]\n",
      "[4280, 25339]\n"
     ]
    }
   ],
   "source": [
    "from sklearn.metrics import confusion_matrix\n",
    "tn, fp, fn, tp = confusion_matrix(Y_test, predictions).ravel()\n",
    "print([tp,fp])\n",
    "print([fn,tn])"
   ]
  },
  {
   "cell_type": "code",
   "execution_count": 43,
   "metadata": {},
   "outputs": [
    {
     "data": {
      "text/plain": [
       "0.03559995019324702"
      ]
     },
     "execution_count": 43,
     "metadata": {},
     "output_type": "execute_result"
    }
   ],
   "source": [
    "from sklearn.metrics import r2_score\n",
    "r2_score(Y_test, Y_pred_rf)"
   ]
  },
  {
   "cell_type": "markdown",
   "metadata": {},
   "source": [
    "# Apply on Logistic"
   ]
  },
  {
   "cell_type": "code",
   "execution_count": 44,
   "metadata": {},
   "outputs": [
    {
     "name": "stdout",
     "output_type": "stream",
     "text": [
      "[[ 2.10435965e+00  1.99380121e+00  3.78063415e+00  9.73904628e-01\n",
      "  -4.81095026e-01  6.42390468e+00  5.45578058e+00 -1.04285565e+01\n",
      "  -9.48491249e-01 -3.69726809e+00  4.62361866e-02  5.32121143e-01\n",
      "  -1.13162557e-01  2.73405783e-02  5.16827243e-01 -2.11345850e-01\n",
      "   2.29077102e-01  6.69205086e-01  6.17098269e-01 -1.74445709e-03\n",
      "  -7.30436826e-03 -8.81018988e-02  5.74552164e-02  2.24825540e-02\n",
      "   3.27406169e-01  4.88989053e-01  1.85022774e-01  6.60516318e-01]]\n",
      "[-2.40532753]\n"
     ]
    },
    {
     "name": "stderr",
     "output_type": "stream",
     "text": [
      "/Users/tzemingho/opt/anaconda3/lib/python3.7/site-packages/sklearn/linear_model/_logistic.py:939: ConvergenceWarning: lbfgs failed to converge (status=1):\n",
      "STOP: TOTAL NO. of ITERATIONS REACHED LIMIT.\n",
      "\n",
      "Increase the number of iterations (max_iter) or scale the data as shown in:\n",
      "    https://scikit-learn.org/stable/modules/preprocessing.html.\n",
      "Please also refer to the documentation for alternative solver options:\n",
      "    https://scikit-learn.org/stable/modules/linear_model.html#logistic-regression\n",
      "  extra_warning_msg=_LOGISTIC_SOLVER_CONVERGENCE_MSG)\n"
     ]
    }
   ],
   "source": [
    "# Import module for fitting\n",
    "from sklearn.linear_model import LogisticRegression\n",
    "\n",
    "# Create instance (i.e. object) of LogisticRegression\n",
    "logmodel = LogisticRegression()\n",
    "\n",
    "# Fit the model using the training data\n",
    "# X_train -> parameter supplies the data features\n",
    "# y_train -> parameter supplies the target labels\n",
    "logmodel.fit(X_train, Y_train)\n",
    "print(logmodel.coef_)\n",
    "print(logmodel.intercept_)"
   ]
  },
  {
   "cell_type": "code",
   "execution_count": 45,
   "metadata": {},
   "outputs": [],
   "source": [
    "#Predicting the target for test data\n",
    "predictions_train = logmodel.predict(X_train)\n",
    "\n",
    "predictions = logmodel.predict(X_test)"
   ]
  },
  {
   "cell_type": "code",
   "execution_count": 46,
   "metadata": {},
   "outputs": [],
   "source": [
    "from sklearn.metrics import classification_report"
   ]
  },
  {
   "cell_type": "code",
   "execution_count": 47,
   "metadata": {
    "scrolled": true
   },
   "outputs": [
    {
     "name": "stdout",
     "output_type": "stream",
     "text": [
      "              precision    recall  f1-score   support\n",
      "\n",
      "           0       0.86      0.95      0.90     26252\n",
      "           1       0.72      0.47      0.57      7626\n",
      "\n",
      "    accuracy                           0.84     33878\n",
      "   macro avg       0.79      0.71      0.74     33878\n",
      "weighted avg       0.83      0.84      0.83     33878\n",
      "\n"
     ]
    }
   ],
   "source": [
    "print(classification_report(Y_test,predictions))"
   ]
  },
  {
   "cell_type": "code",
   "execution_count": 48,
   "metadata": {},
   "outputs": [
    {
     "name": "stdout",
     "output_type": "stream",
     "text": [
      "24898 1354 4063 3563\n",
      "[3563, 1354]\n",
      "[4063, 24898]\n"
     ]
    }
   ],
   "source": [
    "from sklearn.metrics import confusion_matrix\n",
    "tn, fp, fn, tp = confusion_matrix(Y_test, predictions).ravel()\n",
    "print(tn, fp, fn, tp)\n",
    "print([tp,fp])\n",
    "print([fn,tn])"
   ]
  },
  {
   "cell_type": "code",
   "execution_count": null,
   "metadata": {},
   "outputs": [],
   "source": []
  },
  {
   "cell_type": "markdown",
   "metadata": {},
   "source": [
    "# Impliment SMOTE to see if there is any improvement"
   ]
  },
  {
   "cell_type": "code",
   "execution_count": 95,
   "metadata": {},
   "outputs": [],
   "source": [
    "from collections import Counter\n",
    "from sklearn.datasets import make_classification\n",
    "import imblearn\n",
    "from imblearn.over_sampling import SMOTE"
   ]
  },
  {
   "cell_type": "code",
   "execution_count": null,
   "metadata": {},
   "outputs": [],
   "source": []
  },
  {
   "cell_type": "code",
   "execution_count": 96,
   "metadata": {},
   "outputs": [
    {
     "name": "stdout",
     "output_type": "stream",
     "text": [
      "Original dataset shape Counter({'0': 87906, '1': 25019})\n"
     ]
    }
   ],
   "source": [
    "print('Original dataset shape %s' % Counter(Y))"
   ]
  },
  {
   "cell_type": "code",
   "execution_count": 97,
   "metadata": {},
   "outputs": [],
   "source": [
    "sm = SMOTE(random_state=42)"
   ]
  },
  {
   "cell_type": "code",
   "execution_count": 98,
   "metadata": {},
   "outputs": [],
   "source": [
    "X_res, y_res = sm.fit_resample(X, Y)"
   ]
  },
  {
   "cell_type": "code",
   "execution_count": 99,
   "metadata": {},
   "outputs": [
    {
     "name": "stdout",
     "output_type": "stream",
     "text": [
      "Resampled dataset shape Counter({'0': 87906, '1': 87906})\n"
     ]
    }
   ],
   "source": [
    "print('Resampled dataset shape %s' % Counter(y_res))"
   ]
  },
  {
   "cell_type": "markdown",
   "metadata": {},
   "source": [
    "# SMOTE with SVC"
   ]
  },
  {
   "cell_type": "code",
   "execution_count": 100,
   "metadata": {},
   "outputs": [],
   "source": [
    "from sklearn import preprocessing\n",
    "\n",
    "min_max_scaler = preprocessing.MinMaxScaler()\n",
    "\n",
    "X_scaled = pd.DataFrame(min_max_scaler.fit_transform(X_res), columns=X.columns)\n",
    "\n",
    "from sklearn.model_selection import train_test_split\n",
    "X_train, X_test, Y_train, Y_test = train_test_split(X_scaled, y_res, test_size=0.3, random_state=42)\n",
    "\n",
    "from sklearn.svm import SVC\n",
    "\n",
    "clf = SVC(gamma='scale')\n",
    "\n",
    "clf.fit(X_scaled, y_res)\n",
    "\n",
    "predictions = clf.predict(X_test)\n",
    "\n",
    "from sklearn.metrics import accuracy_score\n",
    "\n",
    "accuracy = accuracy_score(predictions, Y_test)\n"
   ]
  },
  {
   "cell_type": "code",
   "execution_count": 101,
   "metadata": {},
   "outputs": [
    {
     "name": "stdout",
     "output_type": "stream",
     "text": [
      "0.8609130896405278\n",
      "              precision    recall  f1-score   support\n",
      "\n",
      "           0       0.84      0.89      0.86     26284\n",
      "           1       0.89      0.83      0.86     26460\n",
      "\n",
      "    accuracy                           0.86     52744\n",
      "   macro avg       0.86      0.86      0.86     52744\n",
      "weighted avg       0.86      0.86      0.86     52744\n",
      "\n",
      "[21925, 2801]\n",
      "[4535, 23483]\n"
     ]
    }
   ],
   "source": [
    "print(accuracy)\n",
    "\n",
    "from sklearn.metrics import classification_report\n",
    "from sklearn.metrics import confusion_matrix\n",
    "print(classification_report(Y_test,predictions))\n",
    "\n",
    "from sklearn.metrics import confusion_matrix\n",
    "tn, fp, fn, tp = confusion_matrix(Y_test, predictions).ravel()\n",
    "print([tp,fp])\n",
    "print([fn,tn])"
   ]
  },
  {
   "cell_type": "code",
   "execution_count": null,
   "metadata": {},
   "outputs": [],
   "source": []
  },
  {
   "cell_type": "markdown",
   "metadata": {},
   "source": [
    "# SMOTE with RandomForest"
   ]
  },
  {
   "cell_type": "code",
   "execution_count": 103,
   "metadata": {},
   "outputs": [
    {
     "name": "stdout",
     "output_type": "stream",
     "text": [
      "0.7899855907780979\n",
      "              precision    recall  f1-score   support\n",
      "\n",
      "           0       0.78      0.81      0.79     26284\n",
      "           1       0.80      0.77      0.79     26460\n",
      "\n",
      "    accuracy                           0.79     52744\n",
      "   macro avg       0.79      0.79      0.79     52744\n",
      "weighted avg       0.79      0.79      0.79     52744\n",
      "\n",
      "[20449, 5066]\n",
      "[6011, 21218]\n"
     ]
    },
    {
     "data": {
      "text/plain": [
       "0.15993300920361386"
      ]
     },
     "execution_count": 103,
     "metadata": {},
     "output_type": "execute_result"
    }
   ],
   "source": [
    "from sklearn.ensemble import RandomForestClassifier\n",
    "from sklearn.metrics import accuracy_score\n",
    "\n",
    "rnd_clf = RandomForestClassifier(n_estimators=500, max_leaf_nodes=16, n_jobs=-1, random_state=42)\n",
    "rnd_clf.fit(X_scaled, y_res)\n",
    "\n",
    "Y_pred_rf = rnd_clf.predict(X_test)\n",
    "print(accuracy_score(Y_test, Y_pred_rf))\n",
    "\n",
    "from sklearn.metrics import classification_report\n",
    "from sklearn.metrics import confusion_matrix\n",
    "print(classification_report(Y_test,Y_pred_rf))\n",
    "\n",
    "from sklearn.metrics import confusion_matrix\n",
    "tn, fp, fn, tp = confusion_matrix(Y_test, Y_pred_rf).ravel()\n",
    "print([tp,fp])\n",
    "print([fn,tn])\n",
    "\n",
    "from sklearn.metrics import r2_score\n",
    "r2_score(Y_test, Y_pred_rf)"
   ]
  },
  {
   "cell_type": "code",
   "execution_count": 105,
   "metadata": {},
   "outputs": [
    {
     "name": "stdout",
     "output_type": "stream",
     "text": [
      "0.8579743667526164\n",
      "              precision    recall  f1-score   support\n",
      "\n",
      "           0       0.84      0.88      0.86     26284\n",
      "           1       0.87      0.84      0.86     26460\n",
      "\n",
      "    accuracy                           0.86     52744\n",
      "   macro avg       0.86      0.86      0.86     52744\n",
      "weighted avg       0.86      0.86      0.86     52744\n",
      "\n",
      "[22162, 3193]\n",
      "[4298, 23091]\n"
     ]
    },
    {
     "data": {
      "text/plain": [
       "0.4318911412787101"
      ]
     },
     "execution_count": 105,
     "metadata": {},
     "output_type": "execute_result"
    }
   ],
   "source": [
    "from sklearn.ensemble import AdaBoostClassifier\n",
    "from sklearn.tree import DecisionTreeClassifier\n",
    "\n",
    "ada_clf = AdaBoostClassifier(\n",
    "    DecisionTreeClassifier(max_depth=2), n_estimators=200,learning_rate=0.05, random_state=42)\n",
    "ada_clf.fit(X_scaled, y_res)\n",
    "\n",
    "y_pred_AD = ada_clf.predict(X_test)\n",
    "print(accuracy_score(Y_test, y_pred_AD))\n",
    "\n",
    "from sklearn.metrics import classification_report\n",
    "from sklearn.metrics import confusion_matrix\n",
    "print(classification_report(Y_test,y_pred_AD))\n",
    "\n",
    "from sklearn.metrics import confusion_matrix\n",
    "tn, fp, fn, tp = confusion_matrix(Y_test, y_pred_AD).ravel()\n",
    "print([tp,fp])\n",
    "print([fn,tn])\n",
    "\n",
    "from sklearn.metrics import r2_score\n",
    "r2_score(Y_test, y_pred_AD)"
   ]
  },
  {
   "cell_type": "code",
   "execution_count": null,
   "metadata": {},
   "outputs": [],
   "source": [
    "feature_importances_"
   ]
  },
  {
   "cell_type": "markdown",
   "metadata": {},
   "source": [
    "# SMOTE with Logistic"
   ]
  },
  {
   "cell_type": "code",
   "execution_count": 106,
   "metadata": {},
   "outputs": [
    {
     "name": "stdout",
     "output_type": "stream",
     "text": [
      "[[  2.22135976   2.24399774   5.9033825    1.8687455   -0.34527343\n",
      "    6.06464477   5.11232696 -11.48007333  -2.40854999  -3.68478211\n",
      "    0.09804345   0.09456995  -3.58455524  -3.44132767  -2.87149254\n",
      "   -3.72200439  -3.30011495  -2.91020337  -2.94066553  -3.36750567\n",
      "   -3.35396129  -3.47683278  -3.34074192  -3.49859834  -3.2011498\n",
      "   -3.09148706  -3.32323548   0.43016919]]\n",
      "[2.86662085]\n"
     ]
    },
    {
     "name": "stderr",
     "output_type": "stream",
     "text": [
      "/Users/tzemingho/opt/anaconda3/lib/python3.7/site-packages/sklearn/linear_model/_logistic.py:939: ConvergenceWarning: lbfgs failed to converge (status=1):\n",
      "STOP: TOTAL NO. of ITERATIONS REACHED LIMIT.\n",
      "\n",
      "Increase the number of iterations (max_iter) or scale the data as shown in:\n",
      "    https://scikit-learn.org/stable/modules/preprocessing.html.\n",
      "Please also refer to the documentation for alternative solver options:\n",
      "    https://scikit-learn.org/stable/modules/linear_model.html#logistic-regression\n",
      "  extra_warning_msg=_LOGISTIC_SOLVER_CONVERGENCE_MSG)\n"
     ]
    }
   ],
   "source": [
    "# Import module for fitting\n",
    "from sklearn.linear_model import LogisticRegression\n",
    "\n",
    "# Create instance (i.e. object) of LogisticRegression\n",
    "logmodel = LogisticRegression()\n",
    "\n",
    "# Fit the model using the training data\n",
    "# X_train -> parameter supplies the data features\n",
    "# y_train -> parameter supplies the target labels\n",
    "logmodel.fit(X_scaled, y_res)\n",
    "print(logmodel.coef_)\n",
    "print(logmodel.intercept_)"
   ]
  },
  {
   "cell_type": "code",
   "execution_count": 107,
   "metadata": {},
   "outputs": [],
   "source": [
    "#Predicting the target for test data\n",
    "predictions_train = logmodel.predict(X_train)\n",
    "\n",
    "predictions = logmodel.predict(X_test)"
   ]
  },
  {
   "cell_type": "code",
   "execution_count": 108,
   "metadata": {},
   "outputs": [],
   "source": [
    "from sklearn.metrics import classification_report"
   ]
  },
  {
   "cell_type": "code",
   "execution_count": 109,
   "metadata": {},
   "outputs": [
    {
     "name": "stdout",
     "output_type": "stream",
     "text": [
      "              precision    recall  f1-score   support\n",
      "\n",
      "           0       0.83      0.88      0.85     26284\n",
      "           1       0.87      0.82      0.84     26460\n",
      "\n",
      "    accuracy                           0.85     52744\n",
      "   macro avg       0.85      0.85      0.85     52744\n",
      "weighted avg       0.85      0.85      0.85     52744\n",
      "\n",
      "23011 3273 4716 21744\n",
      "[21744, 3273]\n",
      "[4716, 23011]\n"
     ]
    }
   ],
   "source": [
    "print(classification_report(Y_test,predictions))\n",
    "\n",
    "\n",
    "from sklearn.metrics import confusion_matrix\n",
    "tn, fp, fn, tp = confusion_matrix(Y_test, predictions).ravel()\n",
    "\n",
    "print(tn, fp, fn, tp)\n",
    "print([tp,fp])\n",
    "print([fn,tn])"
   ]
  },
  {
   "cell_type": "code",
   "execution_count": null,
   "metadata": {},
   "outputs": [],
   "source": []
  },
  {
   "cell_type": "code",
   "execution_count": null,
   "metadata": {},
   "outputs": [],
   "source": []
  },
  {
   "cell_type": "markdown",
   "metadata": {},
   "source": [
    "# Conculsion"
   ]
  },
  {
   "cell_type": "markdown",
   "metadata": {},
   "source": [
    "# Problems encountered due to the process\n",
    " 1. Too many missing values.\n",
    " 2. If impute with mean and median, the shape of dateset changed a lot from the distribution of the actual dataset.\n",
    " 3. The Dataset is highly imbalanced with 'No' having more  counts than 'Yes'."
   ]
  },
  {
   "cell_type": "markdown",
   "metadata": {},
   "source": [
    "# Improvement\n",
    "\n",
    "1. Get more data\n",
    "2. Specify the city to predict weather"
   ]
  },
  {
   "cell_type": "code",
   "execution_count": null,
   "metadata": {},
   "outputs": [],
   "source": []
  }
 ],
 "metadata": {
  "kernelspec": {
   "display_name": "Python 3",
   "language": "python",
   "name": "python3"
  },
  "language_info": {
   "codemirror_mode": {
    "name": "ipython",
    "version": 3
   },
   "file_extension": ".py",
   "mimetype": "text/x-python",
   "name": "python",
   "nbconvert_exporter": "python",
   "pygments_lexer": "ipython3",
   "version": "3.7.4"
  }
 },
 "nbformat": 4,
 "nbformat_minor": 2
}
